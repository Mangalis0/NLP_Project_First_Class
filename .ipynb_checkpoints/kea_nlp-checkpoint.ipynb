{
 "cells": [
  {
   "cell_type": "code",
   "execution_count": 1,
   "metadata": {
    "collapsed": true
   },
   "outputs": [],
   "source": [
    "import pandas as pd\n",
    "import spacy\n",
    "import seaborn as sns\n",
    "import matplotlib.pyplot as plt\n",
    "nlp = spacy.load('en_core_web_sm')"
   ]
  },
  {
   "cell_type": "code",
   "execution_count": 36,
   "metadata": {
    "collapsed": true
   },
   "outputs": [],
   "source": [
    "data = pd.read_csv('train.csv')\n",
    "test = pd.read_csv('test.csv')"
   ]
  },
  {
   "cell_type": "code",
   "execution_count": 28,
   "metadata": {},
   "outputs": [
    {
     "data": {
      "text/html": [
       "<div>\n",
       "<style scoped>\n",
       "    .dataframe tbody tr th:only-of-type {\n",
       "        vertical-align: middle;\n",
       "    }\n",
       "\n",
       "    .dataframe tbody tr th {\n",
       "        vertical-align: top;\n",
       "    }\n",
       "\n",
       "    .dataframe thead th {\n",
       "        text-align: right;\n",
       "    }\n",
       "</style>\n",
       "<table border=\"1\" class=\"dataframe\">\n",
       "  <thead>\n",
       "    <tr style=\"text-align: right;\">\n",
       "      <th></th>\n",
       "      <th>sentiment</th>\n",
       "      <th>message</th>\n",
       "      <th>tweetid</th>\n",
       "    </tr>\n",
       "  </thead>\n",
       "  <tbody>\n",
       "    <tr>\n",
       "      <th>0</th>\n",
       "      <td>1</td>\n",
       "      <td>PolySciMajor EPA chief doesn't think carbon di...</td>\n",
       "      <td>625221</td>\n",
       "    </tr>\n",
       "    <tr>\n",
       "      <th>1</th>\n",
       "      <td>1</td>\n",
       "      <td>It's not like we lack evidence of anthropogeni...</td>\n",
       "      <td>126103</td>\n",
       "    </tr>\n",
       "    <tr>\n",
       "      <th>2</th>\n",
       "      <td>2</td>\n",
       "      <td>RT @RawStory: Researchers say we have three ye...</td>\n",
       "      <td>698562</td>\n",
       "    </tr>\n",
       "    <tr>\n",
       "      <th>3</th>\n",
       "      <td>1</td>\n",
       "      <td>#TodayinMaker# WIRED : 2016 was a pivotal year...</td>\n",
       "      <td>573736</td>\n",
       "    </tr>\n",
       "    <tr>\n",
       "      <th>4</th>\n",
       "      <td>1</td>\n",
       "      <td>RT @SoyNovioDeTodas: It's 2016, and a racist, ...</td>\n",
       "      <td>466954</td>\n",
       "    </tr>\n",
       "  </tbody>\n",
       "</table>\n",
       "</div>"
      ],
      "text/plain": [
       "   sentiment                                            message  tweetid\n",
       "0          1  PolySciMajor EPA chief doesn't think carbon di...   625221\n",
       "1          1  It's not like we lack evidence of anthropogeni...   126103\n",
       "2          2  RT @RawStory: Researchers say we have three ye...   698562\n",
       "3          1  #TodayinMaker# WIRED : 2016 was a pivotal year...   573736\n",
       "4          1  RT @SoyNovioDeTodas: It's 2016, and a racist, ...   466954"
      ]
     },
     "execution_count": 28,
     "metadata": {},
     "output_type": "execute_result"
    }
   ],
   "source": [
    "data.head()"
   ]
  },
  {
   "cell_type": "code",
   "execution_count": 37,
   "metadata": {},
   "outputs": [
    {
     "data": {
      "text/html": [
       "<div>\n",
       "<style scoped>\n",
       "    .dataframe tbody tr th:only-of-type {\n",
       "        vertical-align: middle;\n",
       "    }\n",
       "\n",
       "    .dataframe tbody tr th {\n",
       "        vertical-align: top;\n",
       "    }\n",
       "\n",
       "    .dataframe thead th {\n",
       "        text-align: right;\n",
       "    }\n",
       "</style>\n",
       "<table border=\"1\" class=\"dataframe\">\n",
       "  <thead>\n",
       "    <tr style=\"text-align: right;\">\n",
       "      <th></th>\n",
       "      <th>message</th>\n",
       "      <th>tweetid</th>\n",
       "    </tr>\n",
       "  </thead>\n",
       "  <tbody>\n",
       "    <tr>\n",
       "      <th>0</th>\n",
       "      <td>Europe will now be looking to China to make su...</td>\n",
       "      <td>169760</td>\n",
       "    </tr>\n",
       "    <tr>\n",
       "      <th>1</th>\n",
       "      <td>Combine this with the polling of staffers re c...</td>\n",
       "      <td>35326</td>\n",
       "    </tr>\n",
       "    <tr>\n",
       "      <th>2</th>\n",
       "      <td>The scary, unimpeachable evidence that climate...</td>\n",
       "      <td>224985</td>\n",
       "    </tr>\n",
       "    <tr>\n",
       "      <th>3</th>\n",
       "      <td>@Karoli @morgfair @OsborneInk @dailykos \\nPuti...</td>\n",
       "      <td>476263</td>\n",
       "    </tr>\n",
       "    <tr>\n",
       "      <th>4</th>\n",
       "      <td>RT @FakeWillMoore: 'Female orgasms cause globa...</td>\n",
       "      <td>872928</td>\n",
       "    </tr>\n",
       "  </tbody>\n",
       "</table>\n",
       "</div>"
      ],
      "text/plain": [
       "                                             message  tweetid\n",
       "0  Europe will now be looking to China to make su...   169760\n",
       "1  Combine this with the polling of staffers re c...    35326\n",
       "2  The scary, unimpeachable evidence that climate...   224985\n",
       "3  @Karoli @morgfair @OsborneInk @dailykos \\nPuti...   476263\n",
       "4  RT @FakeWillMoore: 'Female orgasms cause globa...   872928"
      ]
     },
     "execution_count": 37,
     "metadata": {},
     "output_type": "execute_result"
    }
   ],
   "source": [
    "test.head()"
   ]
  },
  {
   "cell_type": "code",
   "execution_count": 4,
   "metadata": {},
   "outputs": [
    {
     "data": {
      "text/plain": [
       "6     RT @thenation: Mike Pence doesn’t believe in g...\n",
       "7     RT @makeandmendlife: Six big things we can ALL...\n",
       "8     @AceofSpadesHQ My 8yo nephew is inconsolable. ...\n",
       "9     RT @paigetweedy: no offense… but like… how do ...\n",
       "10    RT @StephenSchlegel: she's thinking about how ...\n",
       "11    I do hope people who are vocal about climate c...\n",
       "12    RT @tveitdal: We only have a 5 percent chance ...\n",
       "13    RT @Alifaith55: Oh. My. God.\\n\\nTrump's Govern...\n",
       "14    Fossil fuel giant ExxonMobil ‘misled’ the publ...\n",
       "15    RT @GlblCtzn: 'I don't wanna live forever – an...\n",
       "16    RT @jackholmes0: Issues scrubbed from https://...\n",
       "17    RT @patagonia: If our elected leaders fail to ...\n",
       "18    RT @SenSanders: We have a president-elect who ...\n",
       "19    Calum: *tweets abt reunitingish w the cast*\\n-...\n",
       "Name: message, dtype: object"
      ]
     },
     "execution_count": 4,
     "metadata": {},
     "output_type": "execute_result"
    }
   ],
   "source": [
    "data['message'].iloc[6:20]"
   ]
  },
  {
   "cell_type": "code",
   "execution_count": 72,
   "metadata": {},
   "outputs": [
    {
     "data": {
      "text/plain": [
       "dtype('O')"
      ]
     },
     "execution_count": 72,
     "metadata": {},
     "output_type": "execute_result"
    }
   ],
   "source": [
    "data['message'].dtypes"
   ]
  },
  {
   "cell_type": "code",
   "execution_count": 5,
   "metadata": {},
   "outputs": [
    {
     "data": {
      "text/plain": [
       "(15819, 3)"
      ]
     },
     "execution_count": 5,
     "metadata": {},
     "output_type": "execute_result"
    }
   ],
   "source": [
    "data.shape"
   ]
  },
  {
   "cell_type": "code",
   "execution_count": 6,
   "metadata": {},
   "outputs": [
    {
     "data": {
      "text/plain": [
       "sentiment    0\n",
       "message      0\n",
       "tweetid      0\n",
       "dtype: int64"
      ]
     },
     "execution_count": 6,
     "metadata": {},
     "output_type": "execute_result"
    }
   ],
   "source": [
    "data.isnull().sum()"
   ]
  },
  {
   "cell_type": "code",
   "execution_count": 7,
   "metadata": {},
   "outputs": [
    {
     "name": "stdout",
     "output_type": "stream",
     "text": [
      "15819\n",
      "15819\n"
     ]
    }
   ],
   "source": [
    "print(len(data['message']))\n",
    "print(len(data['message'].apply(lambda x: x.isspace())))"
   ]
  },
  {
   "cell_type": "code",
   "execution_count": 8,
   "metadata": {},
   "outputs": [
    {
     "data": {
      "text/html": [
       "<div>\n",
       "<style scoped>\n",
       "    .dataframe tbody tr th:only-of-type {\n",
       "        vertical-align: middle;\n",
       "    }\n",
       "\n",
       "    .dataframe tbody tr th {\n",
       "        vertical-align: top;\n",
       "    }\n",
       "\n",
       "    .dataframe thead th {\n",
       "        text-align: right;\n",
       "    }\n",
       "</style>\n",
       "<table border=\"1\" class=\"dataframe\">\n",
       "  <thead>\n",
       "    <tr style=\"text-align: right;\">\n",
       "      <th></th>\n",
       "      <th>sentiment</th>\n",
       "      <th>tweetid</th>\n",
       "    </tr>\n",
       "  </thead>\n",
       "  <tbody>\n",
       "    <tr>\n",
       "      <th>0</th>\n",
       "      <td>-1</td>\n",
       "      <td>1296</td>\n",
       "    </tr>\n",
       "    <tr>\n",
       "      <th>1</th>\n",
       "      <td>0</td>\n",
       "      <td>2353</td>\n",
       "    </tr>\n",
       "    <tr>\n",
       "      <th>2</th>\n",
       "      <td>1</td>\n",
       "      <td>8530</td>\n",
       "    </tr>\n",
       "    <tr>\n",
       "      <th>3</th>\n",
       "      <td>2</td>\n",
       "      <td>3640</td>\n",
       "    </tr>\n",
       "  </tbody>\n",
       "</table>\n",
       "</div>"
      ],
      "text/plain": [
       "   sentiment  tweetid\n",
       "0         -1     1296\n",
       "1          0     2353\n",
       "2          1     8530\n",
       "3          2     3640"
      ]
     },
     "execution_count": 8,
     "metadata": {},
     "output_type": "execute_result"
    }
   ],
   "source": [
    "sent_dist = data.groupby('sentiment')[['tweetid']].count()\n",
    "sent_dist.reset_index()"
   ]
  },
  {
   "cell_type": "code",
   "execution_count": 9,
   "metadata": {},
   "outputs": [
    {
     "data": {
      "image/png": "[encoded data removed]",
      "text/plain": [
       "<Figure size 432x288 with 1 Axes>"
      ]
     },
     "metadata": {},
     "output_type": "display_data"
    }
   ],
   "source": [
    "sns.countplot(x = data['sentiment'], data = data)\n",
    "plt.show()"
   ]
  },
  {
   "cell_type": "code",
   "execution_count": 10,
   "metadata": {},
   "outputs": [
    {
     "data": {
      "text/plain": [
       "array([ 1,  2,  0, -1], dtype=int64)"
      ]
     },
     "execution_count": 10,
     "metadata": {},
     "output_type": "execute_result"
    }
   ],
   "source": [
    "data['sentiment'].unique()"
   ]
  },
  {
   "cell_type": "markdown",
   "metadata": {},
   "source": [
    "## training with imbalanced data"
   ]
  },
  {
   "cell_type": "code",
   "execution_count": 41,
   "metadata": {
    "collapsed": true
   },
   "outputs": [],
   "source": [
    "from sklearn.model_selection import train_test_split\n",
    "\n",
    "X = data['message']\n",
    "y = data['sentiment']\n",
    "\n",
    "#X_train = data['message']  # this time we want to look at the text\n",
    "#y_train = data['sentiment']\n",
    "#X_test = test['message']\n",
    "#y_test = test['sentiment']\n",
    "X_train, X_test, y_train, y_test = train_test_split(X, y, test_size=0.33, random_state=42)"
   ]
  },
  {
   "cell_type": "code",
   "execution_count": 54,
   "metadata": {
    "collapsed": true
   },
   "outputs": [],
   "source": [
    "from sklearn.feature_extraction.text import TfidfVectorizer\n",
    "from sklearn.feature_extraction.text import CountVectorizer\n",
    "from sklearn.linear_model import LogisticRegression\n",
    "from sklearn.svm import SVC\n",
    "from sklearn.naive_bayes import MultinomialNB\n",
    "from sklearn.neighbors import KNeighborsClassifier\n",
    "from sklearn.tree import DecisionTreeClassifier\n",
    "from sklearn.ensemble import RandomForestClassifier\n",
    "from sklearn import metrics\n",
    "from sklearn.pipeline import Pipeline\n"
   ]
  },
  {
   "cell_type": "code",
   "execution_count": 55,
   "metadata": {
    "collapsed": true
   },
   "outputs": [],
   "source": [
    "algs = [LogisticRegression(random_state = 5), SVC(kernel = 'linear', random_state = 5), SVC(kernel = 'rbf', random_state = 5)\n",
    "        ,MultinomialNB(), KNeighborsClassifier(), DecisionTreeClassifier(max_depth=6),RandomForestClassifier()]"
   ]
  },
  {
   "cell_type": "code",
   "execution_count": 71,
   "metadata": {},
   "outputs": [
    {
     "name": "stderr",
     "output_type": "stream",
     "text": [
      "C:\\Users\\kea pc\\Anaconda3\\lib\\site-packages\\sklearn\\linear_model\\_logistic.py:940: ConvergenceWarning: lbfgs failed to converge (status=1):\n",
      "STOP: TOTAL NO. of ITERATIONS REACHED LIMIT.\n",
      "\n",
      "Increase the number of iterations (max_iter) or scale the data as shown in:\n",
      "    https://scikit-learn.org/stable/modules/preprocessing.html\n",
      "Please also refer to the documentation for alternative solver options:\n",
      "    https://scikit-learn.org/stable/modules/linear_model.html#logistic-regression\n",
      "  extra_warning_msg=_LOGISTIC_SOLVER_CONVERGENCE_MSG)\n"
     ]
    },
    {
     "name": "stdout",
     "output_type": "stream",
     "text": [
      "LogisticRegression(C=1.0, class_weight=None, dual=False, fit_intercept=True,\n",
      "                   intercept_scaling=1, l1_ratio=None, max_iter=100,\n",
      "                   multi_class='auto', n_jobs=None, penalty='l2',\n",
      "                   random_state=5, solver='lbfgs', tol=0.0001, verbose=0,\n",
      "                   warm_start=False)\n",
      "[[ 163   66  180   19]\n",
      " [  19  314  355   49]\n",
      " [  15  125 2530  191]\n",
      " [   5   20  280  890]]\n",
      "              precision    recall  f1-score   support\n",
      "\n",
      "          -1       0.81      0.38      0.52       428\n",
      "           0       0.60      0.43      0.50       737\n",
      "           1       0.76      0.88      0.82      2861\n",
      "           2       0.77      0.74      0.76      1195\n",
      "\n",
      "    accuracy                           0.75      5221\n",
      "   macro avg       0.73      0.61      0.65      5221\n",
      "weighted avg       0.74      0.75      0.73      5221\n",
      "\n",
      "F1_score:  0.733\n",
      "-------------------------------------------------------\n",
      "SVC(C=1.0, break_ties=False, cache_size=200, class_weight=None, coef0=0.0,\n",
      "    decision_function_shape='ovr', degree=3, gamma='scale', kernel='linear',\n",
      "    max_iter=-1, probability=False, random_state=5, shrinking=True, tol=0.001,\n",
      "    verbose=False)\n",
      "[[ 177   84  153   14]\n",
      " [  18  364  312   43]\n",
      " [  24  176 2454  207]\n",
      " [   6   30  275  884]]\n",
      "              precision    recall  f1-score   support\n",
      "\n",
      "          -1       0.79      0.41      0.54       428\n",
      "           0       0.56      0.49      0.52       737\n",
      "           1       0.77      0.86      0.81      2861\n",
      "           2       0.77      0.74      0.75      1195\n",
      "\n",
      "    accuracy                           0.74      5221\n",
      "   macro avg       0.72      0.63      0.66      5221\n",
      "weighted avg       0.74      0.74      0.74      5221\n",
      "\n",
      "F1_score:  0.735\n",
      "-------------------------------------------------------\n",
      "SVC(C=1.0, break_ties=False, cache_size=200, class_weight=None, coef0=0.0,\n",
      "    decision_function_shape='ovr', degree=3, gamma='scale', kernel='rbf',\n",
      "    max_iter=-1, probability=False, random_state=5, shrinking=True, tol=0.001,\n",
      "    verbose=False)\n",
      "[[  92   68  252   16]\n",
      " [   6  271  413   47]\n",
      " [   3  123 2487  248]\n",
      " [   2   10  310  873]]\n",
      "              precision    recall  f1-score   support\n",
      "\n",
      "          -1       0.89      0.21      0.35       428\n",
      "           0       0.57      0.37      0.45       737\n",
      "           1       0.72      0.87      0.79      2861\n",
      "           2       0.74      0.73      0.73      1195\n",
      "\n",
      "    accuracy                           0.71      5221\n",
      "   macro avg       0.73      0.55      0.58      5221\n",
      "weighted avg       0.72      0.71      0.69      5221\n",
      "\n",
      "F1_score:  0.691\n",
      "-------------------------------------------------------\n",
      "MultinomialNB(alpha=1.0, class_prior=None, fit_prior=True)\n",
      "[[  75   13  327   13]\n",
      " [   2  134  564   37]\n",
      " [   0   15 2703  143]\n",
      " [   2    3  396  794]]\n",
      "              precision    recall  f1-score   support\n",
      "\n",
      "          -1       0.95      0.18      0.30       428\n",
      "           0       0.81      0.18      0.30       737\n",
      "           1       0.68      0.94      0.79      2861\n",
      "           2       0.80      0.66      0.73      1195\n",
      "\n",
      "    accuracy                           0.71      5221\n",
      "   macro avg       0.81      0.49      0.53      5221\n",
      "weighted avg       0.75      0.71      0.67      5221\n",
      "\n",
      "F1_score:  0.665\n",
      "-------------------------------------------------------\n",
      "KNeighborsClassifier(algorithm='auto', leaf_size=30, metric='minkowski',\n",
      "                     metric_params=None, n_jobs=None, n_neighbors=5, p=2,\n",
      "                     weights='uniform')\n",
      "[[  34  362   31    1]\n",
      " [   6  652   76    3]\n",
      " [  18 1991  831   21]\n",
      " [  15  607  397  176]]\n",
      "              precision    recall  f1-score   support\n",
      "\n",
      "          -1       0.47      0.08      0.14       428\n",
      "           0       0.18      0.88      0.30       737\n",
      "           1       0.62      0.29      0.40      2861\n",
      "           2       0.88      0.15      0.25      1195\n",
      "\n",
      "    accuracy                           0.32      5221\n",
      "   macro avg       0.54      0.35      0.27      5221\n",
      "weighted avg       0.61      0.32      0.33      5221\n",
      "\n",
      "F1_score:  0.328\n",
      "-------------------------------------------------------\n",
      "DecisionTreeClassifier(ccp_alpha=0.0, class_weight=None, criterion='gini',\n",
      "                       max_depth=6, max_features=None, max_leaf_nodes=None,\n",
      "                       min_impurity_decrease=0.0, min_impurity_split=None,\n",
      "                       min_samples_leaf=1, min_samples_split=2,\n",
      "                       min_weight_fraction_leaf=0.0, presort='deprecated',\n",
      "                       random_state=None, splitter='best')\n",
      "[[  20   53  339   16]\n",
      " [   4  152  543   38]\n",
      " [   2  105 2464  290]\n",
      " [   0    1  663  531]]\n",
      "              precision    recall  f1-score   support\n",
      "\n",
      "          -1       0.77      0.05      0.09       428\n",
      "           0       0.49      0.21      0.29       737\n",
      "           1       0.61      0.86      0.72      2861\n",
      "           2       0.61      0.44      0.51      1195\n",
      "\n",
      "    accuracy                           0.61      5221\n",
      "   macro avg       0.62      0.39      0.40      5221\n",
      "weighted avg       0.61      0.61      0.56      5221\n",
      "\n",
      "F1_score:  0.559\n",
      "-------------------------------------------------------\n",
      "RandomForestClassifier(bootstrap=True, ccp_alpha=0.0, class_weight=None,\n",
      "                       criterion='gini', max_depth=None, max_features='auto',\n",
      "                       max_leaf_nodes=None, max_samples=None,\n",
      "                       min_impurity_decrease=0.0, min_impurity_split=None,\n",
      "                       min_samples_leaf=1, min_samples_split=2,\n",
      "                       min_weight_fraction_leaf=0.0, n_estimators=100,\n",
      "                       n_jobs=None, oob_score=False, random_state=None,\n",
      "                       verbose=0, warm_start=False)\n",
      "[[  94   64  266    4]\n",
      " [   4  263  457   13]\n",
      " [   4  126 2633   98]\n",
      " [   1   13  544  637]]\n",
      "              precision    recall  f1-score   support\n",
      "\n",
      "          -1       0.91      0.22      0.35       428\n",
      "           0       0.56      0.36      0.44       737\n",
      "           1       0.68      0.92      0.78      2861\n",
      "           2       0.85      0.53      0.65      1195\n",
      "\n",
      "    accuracy                           0.69      5221\n",
      "   macro avg       0.75      0.51      0.56      5221\n",
      "weighted avg       0.72      0.69      0.67      5221\n",
      "\n",
      "F1_score:  0.667\n",
      "-------------------------------------------------------\n"
     ]
    }
   ],
   "source": [
    "for i in range(0, len(algs)):\n",
    "    text_clf = Pipeline([('tfidf', CountVectorizer(lowercase = True,stop_words='english', \n",
    "                                                   ngram_range=(1, 2), analyzer='word',max_df = 0.8)), ('clf', algs[i]),])\n",
    "    ##lowercase = True,stop_words='english', ngram_range=(1, 2), analyzer='word',max_df = 0.8\n",
    "    text_clf.fit(X_train, y_train)  \n",
    "    predictions = text_clf.predict(X_test)\n",
    "    \n",
    "    \n",
    "    print(algs[i])\n",
    "    print(metrics.confusion_matrix(y_test,predictions))\n",
    "    print(metrics.classification_report(y_test,predictions))\n",
    "    print('F1_score: ',round(metrics.f1_score(y_test,predictions, average = 'weighted'),3))\n",
    "    print('-------------------------------------------------------')"
   ]
  },
  {
   "cell_type": "code",
   "execution_count": 98,
   "metadata": {},
   "outputs": [],
   "source": [
    "#from imblearn.over_sampling import ADASYN"
   ]
  },
  {
   "cell_type": "code",
   "execution_count": 101,
   "metadata": {},
   "outputs": [],
   "source": [
    "#ada = ADASYN(random_state = 5)"
   ]
  },
  {
   "cell_type": "code",
   "execution_count": 103,
   "metadata": {},
   "outputs": [],
   "source": [
    "#X_train_res, y_train_res = ada.fit_sample(X, y)"
   ]
  },
  {
   "cell_type": "code",
   "execution_count": 87,
   "metadata": {
    "collapsed": true
   },
   "outputs": [],
   "source": [
    "#from imblearn.under_sampling import NearMiss \n",
    "#nr = NearMiss() "
   ]
  },
  {
   "cell_type": "code",
   "execution_count": 104,
   "metadata": {},
   "outputs": [],
   "source": [
    "#X_train_res, y_train_res = nr.fit_sample(X_train, y_train)"
   ]
  },
  {
   "cell_type": "markdown",
   "metadata": {},
   "source": [
    "## balancing the classes"
   ]
  },
  {
   "cell_type": "markdown",
   "metadata": {},
   "source": [
    "### class size to up/down sample by"
   ]
  },
  {
   "cell_type": "code",
   "execution_count": 123,
   "metadata": {},
   "outputs": [],
   "source": [
    "class_size = int(len(data[data['sentiment']==1])/2)"
   ]
  },
  {
   "cell_type": "code",
   "execution_count": 115,
   "metadata": {
    "collapsed": true
   },
   "outputs": [],
   "source": [
    "from sklearn.utils import resample"
   ]
  },
  {
   "cell_type": "markdown",
   "metadata": {},
   "source": [
    "### seperating the four classes"
   ]
  },
  {
   "cell_type": "code",
   "execution_count": 120,
   "metadata": {
    "collapsed": true
   },
   "outputs": [],
   "source": [
    "class_1 = data[data['sentiment']==-1]\n",
    "class_2 = data[data['sentiment']==0]\n",
    "class_3 = data[data['sentiment']==1]\n",
    "class_4 = data[data['sentiment']==2]"
   ]
  },
  {
   "cell_type": "markdown",
   "metadata": {},
   "source": [
    "### upsampling classes 1, 2, and 4 & downsampling class 3"
   ]
  },
  {
   "cell_type": "code",
   "execution_count": 124,
   "metadata": {},
   "outputs": [],
   "source": [
    "class_1_up = resample(class_1,replace=True,n_samples=class_size, random_state=27)\n",
    "class_2_up = resample(class_2,replace=True,n_samples=class_size, random_state=27)\n",
    "class_4_up = resample(class_4,replace=True,n_samples=class_size, random_state=27)\n",
    "class_3_down = resample(class_3,replace=False,n_samples=class_size, random_state=27)\n",
    "\n"
   ]
  },
  {
   "cell_type": "code",
   "execution_count": 125,
   "metadata": {
    "collapsed": true
   },
   "outputs": [],
   "source": [
    "res_df = pd.concat([class_1_up, class_2_up, class_4_up,class_3_down])"
   ]
  },
  {
   "cell_type": "code",
   "execution_count": 126,
   "metadata": {},
   "outputs": [
    {
     "data": {
      "image/png": "[encoded data removed]",
      "text/plain": [
       "<Figure size 432x288 with 1 Axes>"
      ]
     },
     "metadata": {},
     "output_type": "display_data"
    }
   ],
   "source": [
    "sns.countplot(x = res_df['sentiment'], data = data)\n",
    "plt.show()"
   ]
  },
  {
   "cell_type": "markdown",
   "metadata": {},
   "source": [
    "equal distribution of classes as shown on the count plot, therefore classes are balanced"
   ]
  },
  {
   "cell_type": "markdown",
   "metadata": {},
   "source": [
    "## training balanced data"
   ]
  },
  {
   "cell_type": "code",
   "execution_count": 127,
   "metadata": {
    "collapsed": true
   },
   "outputs": [],
   "source": [
    "X_res = res_df['message']\n",
    "y_res = res_df['sentiment']"
   ]
  },
  {
   "cell_type": "code",
   "execution_count": 135,
   "metadata": {
    "collapsed": true
   },
   "outputs": [],
   "source": [
    "X_train, X_test, y_train, y_test = train_test_split(X_res, y_res, test_size=0.25, random_state=42)"
   ]
  },
  {
   "cell_type": "code",
   "execution_count": 136,
   "metadata": {},
   "outputs": [
    {
     "name": "stderr",
     "output_type": "stream",
     "text": [
      "C:\\Users\\kea pc\\Anaconda3\\lib\\site-packages\\sklearn\\linear_model\\_logistic.py:940: ConvergenceWarning: lbfgs failed to converge (status=1):\n",
      "STOP: TOTAL NO. of ITERATIONS REACHED LIMIT.\n",
      "\n",
      "Increase the number of iterations (max_iter) or scale the data as shown in:\n",
      "    https://scikit-learn.org/stable/modules/preprocessing.html\n",
      "Please also refer to the documentation for alternative solver options:\n",
      "    https://scikit-learn.org/stable/modules/linear_model.html#logistic-regression\n",
      "  extra_warning_msg=_LOGISTIC_SOLVER_CONVERGENCE_MSG)\n"
     ]
    },
    {
     "name": "stdout",
     "output_type": "stream",
     "text": [
      "LogisticRegression(C=1.0, class_weight=None, dual=False, fit_intercept=True,\n",
      "                   intercept_scaling=1, l1_ratio=None, max_iter=100,\n",
      "                   multi_class='auto', n_jobs=None, penalty='l2',\n",
      "                   random_state=5, solver='lbfgs', tol=0.0001, verbose=0,\n",
      "                   warm_start=False)\n",
      "[[1042   20    8    6]\n",
      " [  15  980   54   25]\n",
      " [  52  122  731  131]\n",
      " [   5   21   72  981]]\n",
      "              precision    recall  f1-score   support\n",
      "\n",
      "          -1       0.94      0.97      0.95      1076\n",
      "           0       0.86      0.91      0.88      1074\n",
      "           1       0.85      0.71      0.77      1036\n",
      "           2       0.86      0.91      0.88      1079\n",
      "\n",
      "    accuracy                           0.88      4265\n",
      "   macro avg       0.87      0.87      0.87      4265\n",
      "weighted avg       0.87      0.88      0.87      4265\n",
      "\n",
      "F1_score:  0.873\n",
      "-------------------------------------------------------\n",
      "SVC(C=1.0, break_ties=False, cache_size=200, class_weight=None, coef0=0.0,\n",
      "    decision_function_shape='ovr', degree=3, gamma='scale', kernel='linear',\n",
      "    max_iter=-1, probability=False, random_state=5, shrinking=True, tol=0.001,\n",
      "    verbose=False)\n",
      "[[1040   21    9    6]\n",
      " [  15  978   56   25]\n",
      " [  44  134  748  110]\n",
      " [   4   21   83  971]]\n",
      "              precision    recall  f1-score   support\n",
      "\n",
      "          -1       0.94      0.97      0.95      1076\n",
      "           0       0.85      0.91      0.88      1074\n",
      "           1       0.83      0.72      0.77      1036\n",
      "           2       0.87      0.90      0.89      1079\n",
      "\n",
      "    accuracy                           0.88      4265\n",
      "   macro avg       0.87      0.87      0.87      4265\n",
      "weighted avg       0.87      0.88      0.87      4265\n",
      "\n",
      "F1_score:  0.874\n",
      "-------------------------------------------------------\n",
      "SVC(C=1.0, break_ties=False, cache_size=200, class_weight=None, coef0=0.0,\n",
      "    decision_function_shape='ovr', degree=3, gamma='scale', kernel='rbf',\n",
      "    max_iter=-1, probability=False, random_state=5, shrinking=True, tol=0.001,\n",
      "    verbose=False)\n",
      "[[1018   35   10   13]\n",
      " [  19  963   44   48]\n",
      " [  41  167  653  175]\n",
      " [   2   16   72  989]]\n",
      "              precision    recall  f1-score   support\n",
      "\n",
      "          -1       0.94      0.95      0.94      1076\n",
      "           0       0.82      0.90      0.85      1074\n",
      "           1       0.84      0.63      0.72      1036\n",
      "           2       0.81      0.92      0.86      1079\n",
      "\n",
      "    accuracy                           0.85      4265\n",
      "   macro avg       0.85      0.85      0.84      4265\n",
      "weighted avg       0.85      0.85      0.85      4265\n",
      "\n",
      "F1_score:  0.845\n",
      "-------------------------------------------------------\n",
      "MultinomialNB(alpha=1.0, class_prior=None, fit_prior=True)\n",
      "[[1040    8   15   13]\n",
      " [  51  903   71   49]\n",
      " [ 101   76  683  176]\n",
      " [  12    8   59 1000]]\n",
      "              precision    recall  f1-score   support\n",
      "\n",
      "          -1       0.86      0.97      0.91      1076\n",
      "           0       0.91      0.84      0.87      1074\n",
      "           1       0.82      0.66      0.73      1036\n",
      "           2       0.81      0.93      0.86      1079\n",
      "\n",
      "    accuracy                           0.85      4265\n",
      "   macro avg       0.85      0.85      0.85      4265\n",
      "weighted avg       0.85      0.85      0.85      4265\n",
      "\n",
      "F1_score:  0.846\n",
      "-------------------------------------------------------\n",
      "KNeighborsClassifier(algorithm='auto', leaf_size=30, metric='minkowski',\n",
      "                     metric_params=None, n_jobs=None, n_neighbors=5, p=2,\n",
      "                     weights='uniform')\n",
      "[[ 644  420    5    7]\n",
      " [  22 1044    6    2]\n",
      " [  56  811  159   10]\n",
      " [  47  666    8  358]]\n",
      "              precision    recall  f1-score   support\n",
      "\n",
      "          -1       0.84      0.60      0.70      1076\n",
      "           0       0.35      0.97      0.52      1074\n",
      "           1       0.89      0.15      0.26      1036\n",
      "           2       0.95      0.33      0.49      1079\n",
      "\n",
      "    accuracy                           0.52      4265\n",
      "   macro avg       0.76      0.51      0.49      4265\n",
      "weighted avg       0.76      0.52      0.50      4265\n",
      "\n",
      "F1_score:  0.495\n",
      "-------------------------------------------------------\n",
      "DecisionTreeClassifier(ccp_alpha=0.0, class_weight=None, criterion='gini',\n",
      "                       max_depth=6, max_features=None, max_leaf_nodes=None,\n",
      "                       min_impurity_decrease=0.0, min_impurity_split=None,\n",
      "                       min_samples_leaf=1, min_samples_split=2,\n",
      "                       min_weight_fraction_leaf=0.0, presort='deprecated',\n",
      "                       random_state=None, splitter='best')\n",
      "[[288 385 174 229]\n",
      " [ 85 593 170 226]\n",
      " [ 67 223 379 367]\n",
      " [ 51  52 103 873]]\n",
      "              precision    recall  f1-score   support\n",
      "\n",
      "          -1       0.59      0.27      0.37      1076\n",
      "           0       0.47      0.55      0.51      1074\n",
      "           1       0.46      0.37      0.41      1036\n",
      "           2       0.52      0.81      0.63      1079\n",
      "\n",
      "    accuracy                           0.50      4265\n",
      "   macro avg       0.51      0.50      0.48      4265\n",
      "weighted avg       0.51      0.50      0.48      4265\n",
      "\n",
      "F1_score:  0.479\n",
      "-------------------------------------------------------\n",
      "RandomForestClassifier(bootstrap=True, ccp_alpha=0.0, class_weight=None,\n",
      "                       criterion='gini', max_depth=None, max_features='auto',\n",
      "                       max_leaf_nodes=None, max_samples=None,\n",
      "                       min_impurity_decrease=0.0, min_impurity_split=None,\n",
      "                       min_samples_leaf=1, min_samples_split=2,\n",
      "                       min_weight_fraction_leaf=0.0, n_estimators=100,\n",
      "                       n_jobs=None, oob_score=False, random_state=None,\n",
      "                       verbose=0, warm_start=False)\n",
      "[[1031   22   12   11]\n",
      " [   4  968   59   43]\n",
      " [  22  188  653  173]\n",
      " [   0   28   67  984]]\n",
      "              precision    recall  f1-score   support\n",
      "\n",
      "          -1       0.98      0.96      0.97      1076\n",
      "           0       0.80      0.90      0.85      1074\n",
      "           1       0.83      0.63      0.71      1036\n",
      "           2       0.81      0.91      0.86      1079\n",
      "\n",
      "    accuracy                           0.85      4265\n",
      "   macro avg       0.85      0.85      0.85      4265\n",
      "weighted avg       0.85      0.85      0.85      4265\n",
      "\n",
      "F1_score:  0.849\n",
      "-------------------------------------------------------\n"
     ]
    }
   ],
   "source": [
    "for i in range(0, len(algs)):\n",
    "    text_clf = Pipeline([('count_vec', CountVectorizer(lowercase = True,stop_words='english', \n",
    "                                                   ngram_range=(1, 2), analyzer='word')), ('clf', algs[i]),])\n",
    "   \n",
    "    text_clf.fit(X_train, y_train)  \n",
    "    predictions = text_clf.predict(X_test)\n",
    "    \n",
    "    \n",
    "    print(algs[i])\n",
    "    print(metrics.confusion_matrix(y_test,predictions))\n",
    "    print(metrics.classification_report(y_test,predictions))\n",
    "    print('F1_score: ',round(metrics.f1_score(y_test,predictions, average = 'weighted'),3))\n",
    "    print('-------------------------------------------------------')"
   ]
  },
  {
   "cell_type": "code",
   "execution_count": null,
   "metadata": {
    "collapsed": true
   },
   "outputs": [],
   "source": []
  }
 ],
 "metadata": {
  "kernelspec": {
   "display_name": "Python 3",
   "language": "python",
   "name": "python3"
  },
  "language_info": {
   "codemirror_mode": {
    "name": "ipython",
    "version": 3
   },
   "file_extension": ".py",
   "mimetype": "text/x-python",
   "name": "python",
   "nbconvert_exporter": "python",
   "pygments_lexer": "ipython3",
   "version": "3.7.6"
  }
 },
 "nbformat": 4,
 "nbformat_minor": 2
}
